{
 "cells": [
  {
   "cell_type": "code",
   "execution_count": 1,
   "metadata": {},
   "outputs": [],
   "source": [
    "import cv2\n",
    "import numpy as np\n",
    "import matplotlib.pyplot as plt"
   ]
  },
  {
   "cell_type": "code",
   "execution_count": 2,
   "metadata": {},
   "outputs": [],
   "source": [
    "def add_sample(video_no, video, label, out):\n",
    "    \n",
    "    img_example = np.zeros((600,1200,3));\n",
    "    cv2.putText(img_example,'Sample'+ str(video_no)+':',(450,250), font, 1.5,(0,255,0),4);\n",
    "    cv2.putText(img_example, label, (150,350), font, 1.5,(0,255,0),4);\n",
    "    i = 0;\n",
    "    \n",
    "    while(i < 10):\n",
    "        out.write(img_example.astype(np.uint8))\n",
    "        i += 1\n",
    "    \n",
    "    cap = cv2.VideoCapture(video)\n",
    "    \n",
    "    while(True):\n",
    "        ret, frame = cap.read()\n",
    "        if(ret == False):\n",
    "            break\n",
    "        out.write(frame)\n",
    "        \n",
    "    "
   ]
  },
  {
   "cell_type": "code",
   "execution_count": 3,
   "metadata": {},
   "outputs": [],
   "source": [
    "out = cv2.VideoWriter('outpy2.avi',cv2.VideoWriter_fourcc('M','J','P','G'), 8, (1200,600))\n",
    "\n",
    "font = cv2.FONT_HERSHEY_SIMPLEX\n",
    "img = np.zeros((600,1200,3));\n",
    "cv2.putText(img,'AutoRate Video Results',(200,300), font, 2,(0,255,0),6);\n",
    "\n",
    "img_example = np.zeros((600,1200,3));\n",
    "cv2.putText(img_example,'Sample1',(450,300), font, 2,(0,255,0),6);\n",
    "\n",
    "img_real = np.zeros((600,1200,3));\n",
    "cv2.putText(img_real,'Driving setting',(400,300), font, 2,(0,255,0),6);\n",
    "\n",
    "img_static = np.zeros((600,1200,3));\n",
    "cv2.putText(img_static,'Stationary setting',(350,300), font, 2,(0,255,0),6);\n"
   ]
  },
  {
   "cell_type": "code",
   "execution_count": 4,
   "metadata": {},
   "outputs": [],
   "source": [
    "i = 0;\n",
    "while(i < 10):\n",
    "    out.write(img.astype(np.uint8))\n",
    "    i += 1\n",
    "    \n",
    "i = 0;\n",
    "while(i < 10):\n",
    "    out.write(img_static.astype(np.uint8))\n",
    "    i += 1\n",
    "    \n",
    "add_sample(1, 'output/out34.avi','Rating-1 as driver is using phone', out) ####### 22\n",
    "#add_sample(2, 'output/out23.avi','Rating-1 as driver is not wearing seat belt', out)#########23\n",
    "add_sample(3, 'output/out27.avi','Rating-2 as driver is highly distracted', out) #### 27\n",
    "add_sample(4, 'output/out25.avi','Rating-4 as driver is less distracted', out)##### 25\n",
    "#add_sample(4, 'output/out24.avi','Rating-3 as driver is moderately distracted', out)##### 24\n",
    "\n",
    "i = 0;\n",
    "while(i < 10):\n",
    "    out.write(img_real.astype(np.uint8))\n",
    "    i += 1\n",
    "    \n",
    "add_sample(1, 'output/out1.avi', 'Rating-5 as driver is very attentive',out) #########\n",
    "#add_sample(2, 'output/out13.avi','Rating-3 as driver is moderately distracted \\n but predicted is rating-2',out) #########\n",
    "#add_sample(3, 'output/out12.avi', 'Rating-4 as driver is moderately distracted' ,out) ######### 12\n",
    "add_sample(4, 'output/out10.avi', 'Rating-2 as driver is highly distracted',out) ######### 10"
   ]
  },
  {
   "cell_type": "code",
   "execution_count": 5,
   "metadata": {},
   "outputs": [],
   "source": [
    "\n",
    "out.release()"
   ]
  },
  {
   "cell_type": "code",
   "execution_count": null,
   "metadata": {},
   "outputs": [],
   "source": []
  },
  {
   "cell_type": "code",
   "execution_count": null,
   "metadata": {},
   "outputs": [],
   "source": []
  }
 ],
 "metadata": {
  "kernelspec": {
   "display_name": "Python 3",
   "language": "python",
   "name": "python3"
  },
  "language_info": {
   "codemirror_mode": {
    "name": "ipython",
    "version": 3
   },
   "file_extension": ".py",
   "mimetype": "text/x-python",
   "name": "python",
   "nbconvert_exporter": "python",
   "pygments_lexer": "ipython3",
   "version": "3.5.2"
  }
 },
 "nbformat": 4,
 "nbformat_minor": 2
}
